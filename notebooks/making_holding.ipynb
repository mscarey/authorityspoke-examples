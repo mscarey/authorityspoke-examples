{
 "cells": [
  {
   "cell_type": "code",
   "execution_count": 1,
   "metadata": {},
   "outputs": [],
   "source": [
    "import os\n",
    "from dotenv import load_dotenv\n",
    "load_dotenv()\n",
    "LEGISLICE_API_TOKEN = os.getenv(\"LEGISLICE_API_TOKEN\")"
   ]
  },
  {
   "cell_type": "code",
   "execution_count": 2,
   "metadata": {},
   "outputs": [],
   "source": [
    "from authorityspoke.io.downloads import LegisClient\n",
    "\n",
    "CLIENT = LegisClient(api_token=LEGISLICE_API_TOKEN)"
   ]
  },
  {
   "cell_type": "code",
   "execution_count": 3,
   "metadata": {},
   "outputs": [],
   "source": [
    "offense_statute = CLIENT.read(\"/us/usc/t18/s1960/a\")"
   ]
  },
  {
   "cell_type": "code",
   "execution_count": 4,
   "metadata": {},
   "outputs": [
    {
     "name": "stdout",
     "output_type": "stream",
     "text": [
      "\"Whoever knowingly conducts, controls, manages, supervises, directs, or owns all or part of an unlicensed money transmitting business, shall be fined in accordance with this title or imprisoned not more than 5 years, or both.\" (/us/usc/t18/s1960/a 2013-07-18)\n"
     ]
    }
   ],
   "source": [
    "print(offense_statute)"
   ]
  },
  {
   "cell_type": "markdown",
   "metadata": {},
   "source": [
    "This example is based on [United States v. Harmon](https://www.courtlistener.com/opinion/4843029/united-states-v-harmon/), a case from the District Court of the District of Columbia"
   ]
  },
  {
   "cell_type": "code",
   "execution_count": 5,
   "metadata": {},
   "outputs": [],
   "source": [
    "from authorityspoke import Entity, Fact, Holding, Predicate\n",
    "no_license = Fact(\n",
    "            \"$business was licensed as a money transmitting business\",\n",
    "            truth=False,\n",
    "            terms=Entity(\"Helix\"),\n",
    "        )\n",
    "operated = Fact(\n",
    "    \"$person operated $business as a business\",\n",
    "    terms=[Entity(\"Harmon\"), Entity(\"Helix\")],\n",
    ")\n",
    "transmitting = Fact(\n",
    "    \"$business was a money transmitting business\", terms=Entity(\"Helix\")\n",
    ")\n",
    "offense = Fact(\n",
    "    \"$person committed the offense of conducting an unlicensed money transmitting business\",\n",
    "    terms=Entity(\"Harmon\"),\n",
    ")"
   ]
  },
  {
   "cell_type": "code",
   "execution_count": 6,
   "metadata": {},
   "outputs": [],
   "source": [
    "offense_holding = Holding.from_factors(\n",
    "    inputs=[operated, transmitting, no_license],\n",
    "    outputs=offense,\n",
    "    enactments=offense_statute,\n",
    "    universal=True,\n",
    ")"
   ]
  },
  {
   "cell_type": "code",
   "execution_count": 7,
   "metadata": {},
   "outputs": [
    {
     "name": "stdout",
     "output_type": "stream",
     "text": [
      "the Holding to ACCEPT\n",
      "  the Rule that the court MAY ALWAYS impose the\n",
      "    RESULT:\n",
      "      the fact that <Harmon> committed the offense of conducting an\n",
      "      unlicensed money transmitting business\n",
      "    GIVEN:\n",
      "      the fact that <Harmon> operated <Helix> as a business\n",
      "      the fact that <Helix> was a money transmitting business\n",
      "      the fact it was false that <Helix> was licensed as a money\n",
      "      transmitting business\n",
      "    GIVEN the ENACTMENT:\n",
      "      \"Whoever knowingly conducts, controls, manages, supervises, directs, or owns all or part of an unlicensed money transmitting business, shall be fined in accordance with this title or imprisoned not more than 5 years, or both.\" (/us/usc/t18/s1960/a 2013-07-18)\n"
     ]
    }
   ],
   "source": [
    "print(offense_holding)"
   ]
  },
  {
   "cell_type": "code",
   "execution_count": 8,
   "metadata": {},
   "outputs": [],
   "source": [
    "definition_statute = CLIENT.read(\"/us/usc/t18/s1960/b/2\")"
   ]
  },
  {
   "cell_type": "code",
   "execution_count": 9,
   "metadata": {},
   "outputs": [
    {
     "data": {
      "text/plain": [
       "'the term “money transmitting” includes transferring funds on behalf of the public by any and all means including but not limited to transfers within this country or to locations abroad by wire, check, draft, facsimile, or courier; and'"
      ]
     },
     "execution_count": 9,
     "metadata": {},
     "output_type": "execute_result"
    }
   ],
   "source": [
    "definition_statute.text"
   ]
  },
  {
   "cell_type": "code",
   "execution_count": 10,
   "metadata": {},
   "outputs": [],
   "source": [
    "bitcoin = Fact(\n",
    "    \"$business transferred bitcoin on behalf of the public\",\n",
    "    terms=Entity(\"Helix\"),\n",
    ")\n",
    "bitcoin_holding = Holding.from_factors(\n",
    "    inputs=bitcoin,\n",
    "    outputs=transmitting,\n",
    "    enactments=definition_statute,\n",
    "    universal=True,\n",
    ")"
   ]
  },
  {
   "cell_type": "markdown",
   "metadata": {},
   "source": [
    "The combined effect of the two holdings above is that if a person operated a business that transferred bitcoin on behalf of the public without a \"money transmitting business\" license, the person may be found guilty of the offense."
   ]
  },
  {
   "cell_type": "code",
   "execution_count": 11,
   "metadata": {},
   "outputs": [
    {
     "name": "stdout",
     "output_type": "stream",
     "text": [
      "the Holding to ACCEPT\n",
      "  the Rule that the court MAY ALWAYS impose the\n",
      "    RESULT:\n",
      "      the fact that <Helix> was a money transmitting business\n",
      "    GIVEN:\n",
      "      the fact that <Helix> transferred bitcoin on behalf of the public\n",
      "    GIVEN the ENACTMENT:\n",
      "      \"the term “money transmitting” includes transferring funds on behalf of the public by any and all means including but not limited to transfers within this country or to locations abroad by wire, check, draft, facsimile, or courier; and\" (/us/usc/t18/s1960/b/2 2013-07-18)\n"
     ]
    }
   ],
   "source": [
    "print(bitcoin_holding)"
   ]
  },
  {
   "cell_type": "code",
   "execution_count": 12,
   "metadata": {},
   "outputs": [],
   "source": [
    "result = bitcoin_holding + offense_holding"
   ]
  },
  {
   "cell_type": "markdown",
   "metadata": {},
   "source": [
    "Note that \"the fact that `<Helix>` was a money transmitting business\" is included as an output of the Holding, but is no longer needed as an input to trigger the Holding."
   ]
  },
  {
   "cell_type": "code",
   "execution_count": 13,
   "metadata": {},
   "outputs": [
    {
     "name": "stdout",
     "output_type": "stream",
     "text": [
      "the Holding to ACCEPT\n",
      "  the Rule that the court MAY ALWAYS impose the\n",
      "    RESULT:\n",
      "      the fact that <Harmon> committed the offense of conducting an\n",
      "      unlicensed money transmitting business\n",
      "      the fact that <Helix> was a money transmitting business\n",
      "    GIVEN:\n",
      "      the fact that <Harmon> operated <Helix> as a business\n",
      "      the fact it was false that <Helix> was licensed as a money\n",
      "      transmitting business\n",
      "      the fact that <Helix> transferred bitcoin on behalf of the public\n",
      "    GIVEN the ENACTMENTS:\n",
      "      \"Whoever knowingly conducts, controls, manages, supervises, directs, or owns all or part of an unlicensed money transmitting business, shall be fined in accordance with this title or imprisoned not more than 5 years, or both.\" (/us/usc/t18/s1960/a 2013-07-18)\n",
      "      \"the term “money transmitting” includes transferring funds on behalf of the public by any and all means including but not limited to transfers within this country or to locations abroad by wire, check, draft, facsimile, or courier; and\" (/us/usc/t18/s1960/b/2 2013-07-18)\n"
     ]
    }
   ],
   "source": [
    "print(result)"
   ]
  },
  {
   "cell_type": "code",
   "execution_count": 14,
   "metadata": {},
   "outputs": [],
   "source": [
    "result_with_new_context = result.new_context(([Entity(\"Harmon\"), Entity(\"Helix\")], [Entity(\"Schrute\"), Entity(\"Schrute Bucks\")]))"
   ]
  },
  {
   "cell_type": "code",
   "execution_count": 15,
   "metadata": {},
   "outputs": [
    {
     "name": "stdout",
     "output_type": "stream",
     "text": [
      "the Holding to ACCEPT\n",
      "  the Rule that the court MAY ALWAYS impose the\n",
      "    RESULT:\n",
      "      the fact that <Schrute> committed the offense of conducting an\n",
      "      unlicensed money transmitting business\n",
      "      the fact that <Schrute Bucks> was a money transmitting business\n",
      "    GIVEN:\n",
      "      the fact that <Schrute> operated <Schrute Bucks> as a business\n",
      "      the fact it was false that <Schrute Bucks> was licensed as a money\n",
      "      transmitting business\n",
      "      the fact that <Schrute Bucks> transferred bitcoin on behalf of the\n",
      "      public\n",
      "    GIVEN the ENACTMENTS:\n",
      "      \"Whoever knowingly conducts, controls, manages, supervises, directs, or owns all or part of an unlicensed money transmitting business, shall be fined in accordance with this title or imprisoned not more than 5 years, or both.\" (/us/usc/t18/s1960/a 2013-07-18)\n",
      "      \"the term “money transmitting” includes transferring funds on behalf of the public by any and all means including but not limited to transfers within this country or to locations abroad by wire, check, draft, facsimile, or courier; and\" (/us/usc/t18/s1960/b/2 2013-07-18)\n"
     ]
    }
   ],
   "source": [
    "print(result_with_new_context)"
   ]
  },
  {
   "cell_type": "markdown",
   "metadata": {},
   "source": [
    "https://www.courtlistener.com/opinion/175697/united-states-v-mazza-alaluf/\n",
    "https://www.courtlistener.com/api/rest/v3/opinions/?id=175697\n",
    "    "
   ]
  },
  {
   "cell_type": "code",
   "execution_count": null,
   "metadata": {},
   "outputs": [],
   "source": [
    "new_york_anchor = \"the trial evidence was sufficient to permit a finding that Mazza-Alaluf operated a money transmitting business in New York, Illinois, and Michigan that required appropriate state licenses.\"\n",
    "\n",
    "new_york_offense = Fact(\n",
    "    \"$defendant used ${defendant}'s business $business to commit the New York offense \"\n",
    "    \"of engaging in the business of receiving money \"\n",
    "    \"for transmission or transmitting the same, without a license therefor\",\n",
    "    terms=[Entity(\"Mazza-Alaluf\"), Entity(\"Turismo Costa Brava\")])\n",
    "definition_statute = CLIENT.read(\"/us/usc/t18/s1960/b/1/A\")\n",
    "no_appropriate_state_license = Fact(\n",
    "            (\"$defendant operated $business without an appropriate money transmitting \"\n",
    "            \"license in a State where such operation was punishable as a misdemeanor \"\n",
    "            \"or a felony under State law\"),\n",
    "            terms=[Entity(\"Mazza-Alaluf\"), Entity(\"Turismo Costa Brava\")],\n",
    "        )"
   ]
  },
  {
   "cell_type": "code",
   "execution_count": 17,
   "metadata": {},
   "outputs": [
    {
     "ename": "LegislicePathError",
     "evalue": "No enacted text found for query https://authorityspoke.com/api/v1/us/usc/t18/s5312/b/1/",
     "output_type": "error",
     "traceback": [
      "\u001b[0;31m---------------------------------------------------------------------------\u001b[0m",
      "\u001b[0;31mLegislicePathError\u001b[0m                        Traceback (most recent call last)",
      "\u001b[0;32m<ipython-input-17-3e11e5105f87>\u001b[0m in \u001b[0;36m<module>\u001b[0;34m\u001b[0m\n\u001b[1;32m     20\u001b[0m \"$business was a domestic financial institution\", truth=False, terms=Entity(\"Turismo Costa Brava\"))\n\u001b[1;32m     21\u001b[0m \u001b[0mdefinition_statute\u001b[0m \u001b[0;34m=\u001b[0m \u001b[0mCLIENT\u001b[0m\u001b[0;34m.\u001b[0m\u001b[0mread\u001b[0m\u001b[0;34m(\u001b[0m\u001b[0;34m\"/us/usc/t18/s1960/b/1/A\"\u001b[0m\u001b[0;34m)\u001b[0m\u001b[0;34m\u001b[0m\u001b[0;34m\u001b[0m\u001b[0m\n\u001b[0;32m---> 22\u001b[0;31m \u001b[0mdomestic_institution_statute\u001b[0m \u001b[0;34m=\u001b[0m \u001b[0mCLIENT\u001b[0m\u001b[0;34m.\u001b[0m\u001b[0mread\u001b[0m\u001b[0;34m(\u001b[0m\u001b[0;34m\"/us/usc/t18/s5312/b/1\"\u001b[0m\u001b[0;34m)\u001b[0m\u001b[0;34m\u001b[0m\u001b[0;34m\u001b[0m\u001b[0m\n\u001b[0m\u001b[1;32m     23\u001b[0m \u001b[0mno_domestic_office\u001b[0m \u001b[0;34m=\u001b[0m \u001b[0mFact\u001b[0m\u001b[0;34m(\u001b[0m\u001b[0;34m\"$business lacked an agent, agency, branch, or office within the United States\"\u001b[0m\u001b[0;34m,\u001b[0m \u001b[0mterms\u001b[0m\u001b[0;34m=\u001b[0m\u001b[0mEntity\u001b[0m\u001b[0;34m(\u001b[0m\u001b[0;34m\"Turismo Costa Brava\"\u001b[0m\u001b[0;34m)\u001b[0m\u001b[0;34m)\u001b[0m\u001b[0;34m\u001b[0m\u001b[0;34m\u001b[0m\u001b[0m\n\u001b[1;32m     24\u001b[0m holding = Holding.from_factors(\n",
      "\u001b[0;32m~/dev/authority/AuthoritySpoke/venv/lib/python3.9/site-packages/legislice/download.py\u001b[0m in \u001b[0;36mread\u001b[0;34m(self, query, date)\u001b[0m\n\u001b[1;32m    301\u001b[0m             \u001b[0myou\u001b[0m \u001b[0mwill\u001b[0m \u001b[0mbe\u001b[0m \u001b[0mgiven\u001b[0m \u001b[0mthe\u001b[0m \u001b[0mversion\u001b[0m \u001b[0mthat\u001b[0m \u001b[0mbecame\u001b[0m \u001b[0meffective\u001b[0m \u001b[0mlater\u001b[0m\u001b[0;34m.\u001b[0m\u001b[0;34m\u001b[0m\u001b[0;34m\u001b[0m\u001b[0m\n\u001b[1;32m    302\u001b[0m         \"\"\"\n\u001b[0;32m--> 303\u001b[0;31m         \u001b[0mraw_enactment\u001b[0m \u001b[0;34m=\u001b[0m \u001b[0mself\u001b[0m\u001b[0;34m.\u001b[0m\u001b[0mfetch\u001b[0m\u001b[0;34m(\u001b[0m\u001b[0mquery\u001b[0m\u001b[0;34m=\u001b[0m\u001b[0mquery\u001b[0m\u001b[0;34m,\u001b[0m \u001b[0mdate\u001b[0m\u001b[0;34m=\u001b[0m\u001b[0mdate\u001b[0m\u001b[0;34m)\u001b[0m\u001b[0;34m\u001b[0m\u001b[0;34m\u001b[0m\u001b[0m\n\u001b[0m\u001b[1;32m    304\u001b[0m         \u001b[0menactment\u001b[0m \u001b[0;34m=\u001b[0m \u001b[0mself\u001b[0m\u001b[0;34m.\u001b[0m\u001b[0mread_from_json\u001b[0m\u001b[0;34m(\u001b[0m\u001b[0mraw_enactment\u001b[0m\u001b[0;34m)\u001b[0m\u001b[0;34m\u001b[0m\u001b[0;34m\u001b[0m\u001b[0m\n\u001b[1;32m    305\u001b[0m         \u001b[0menactment\u001b[0m\u001b[0;34m.\u001b[0m\u001b[0mselect_all\u001b[0m\u001b[0;34m(\u001b[0m\u001b[0;34m)\u001b[0m\u001b[0;34m\u001b[0m\u001b[0;34m\u001b[0m\u001b[0m\n",
      "\u001b[0;32m~/dev/authority/AuthoritySpoke/venv/lib/python3.9/site-packages/legislice/download.py\u001b[0m in \u001b[0;36mfetch\u001b[0;34m(self, query, date)\u001b[0m\n\u001b[1;32m     93\u001b[0m         \u001b[0;32melif\u001b[0m \u001b[0misinstance\u001b[0m\u001b[0;34m(\u001b[0m\u001b[0mquery\u001b[0m\u001b[0;34m,\u001b[0m \u001b[0mInboundReference\u001b[0m\u001b[0;34m)\u001b[0m\u001b[0;34m:\u001b[0m\u001b[0;34m\u001b[0m\u001b[0;34m\u001b[0m\u001b[0m\n\u001b[1;32m     94\u001b[0m             \u001b[0;32mreturn\u001b[0m \u001b[0mself\u001b[0m\u001b[0;34m.\u001b[0m\u001b[0mfetch_inbound_reference\u001b[0m\u001b[0;34m(\u001b[0m\u001b[0mquery\u001b[0m\u001b[0;34m=\u001b[0m\u001b[0mquery\u001b[0m\u001b[0;34m)\u001b[0m\u001b[0;34m\u001b[0m\u001b[0;34m\u001b[0m\u001b[0m\n\u001b[0;32m---> 95\u001b[0;31m         \u001b[0;32mreturn\u001b[0m \u001b[0mself\u001b[0m\u001b[0;34m.\u001b[0m\u001b[0mfetch_uri\u001b[0m\u001b[0;34m(\u001b[0m\u001b[0mquery\u001b[0m\u001b[0;34m=\u001b[0m\u001b[0mquery\u001b[0m\u001b[0;34m,\u001b[0m \u001b[0mdate\u001b[0m\u001b[0;34m=\u001b[0m\u001b[0mdate\u001b[0m\u001b[0;34m)\u001b[0m\u001b[0;34m\u001b[0m\u001b[0;34m\u001b[0m\u001b[0m\n\u001b[0m\u001b[1;32m     96\u001b[0m \u001b[0;34m\u001b[0m\u001b[0m\n\u001b[1;32m     97\u001b[0m     \u001b[0;32mdef\u001b[0m \u001b[0mfetch_citing_provision\u001b[0m\u001b[0;34m(\u001b[0m\u001b[0mself\u001b[0m\u001b[0;34m,\u001b[0m \u001b[0mquery\u001b[0m\u001b[0;34m:\u001b[0m \u001b[0mCitingProvisionLocation\u001b[0m\u001b[0;34m)\u001b[0m \u001b[0;34m->\u001b[0m \u001b[0mRawEnactment\u001b[0m\u001b[0;34m:\u001b[0m\u001b[0;34m\u001b[0m\u001b[0;34m\u001b[0m\u001b[0m\n",
      "\u001b[0;32m~/dev/authority/AuthoritySpoke/venv/lib/python3.9/site-packages/legislice/download.py\u001b[0m in \u001b[0;36mfetch_uri\u001b[0;34m(self, query, date)\u001b[0m\n\u001b[1;32m    209\u001b[0m         \"\"\"\n\u001b[1;32m    210\u001b[0m         \u001b[0murl\u001b[0m \u001b[0;34m=\u001b[0m \u001b[0mself\u001b[0m\u001b[0;34m.\u001b[0m\u001b[0murl_from_enactment_path\u001b[0m\u001b[0;34m(\u001b[0m\u001b[0mpath\u001b[0m\u001b[0;34m=\u001b[0m\u001b[0mquery\u001b[0m\u001b[0;34m,\u001b[0m \u001b[0mdate\u001b[0m\u001b[0;34m=\u001b[0m\u001b[0mdate\u001b[0m\u001b[0;34m)\u001b[0m\u001b[0;34m\u001b[0m\u001b[0;34m\u001b[0m\u001b[0m\n\u001b[0;32m--> 211\u001b[0;31m         \u001b[0mresponse\u001b[0m \u001b[0;34m=\u001b[0m \u001b[0mself\u001b[0m\u001b[0;34m.\u001b[0m\u001b[0m_fetch_from_url\u001b[0m\u001b[0;34m(\u001b[0m\u001b[0murl\u001b[0m\u001b[0;34m=\u001b[0m\u001b[0murl\u001b[0m\u001b[0;34m)\u001b[0m\u001b[0;34m\u001b[0m\u001b[0;34m\u001b[0m\u001b[0m\n\u001b[0m\u001b[1;32m    212\u001b[0m         \u001b[0;32mreturn\u001b[0m \u001b[0mresponse\u001b[0m\u001b[0;34m.\u001b[0m\u001b[0mjson\u001b[0m\u001b[0;34m(\u001b[0m\u001b[0;34m)\u001b[0m\u001b[0;34m\u001b[0m\u001b[0;34m\u001b[0m\u001b[0m\n\u001b[1;32m    213\u001b[0m \u001b[0;34m\u001b[0m\u001b[0m\n",
      "\u001b[0;32m~/dev/authority/AuthoritySpoke/venv/lib/python3.9/site-packages/legislice/download.py\u001b[0m in \u001b[0;36m_fetch_from_url\u001b[0;34m(self, url)\u001b[0m\n\u001b[1;32m    339\u001b[0m         \u001b[0mresponse\u001b[0m \u001b[0;34m=\u001b[0m \u001b[0mrequests\u001b[0m\u001b[0;34m.\u001b[0m\u001b[0mget\u001b[0m\u001b[0;34m(\u001b[0m\u001b[0murl\u001b[0m\u001b[0;34m,\u001b[0m \u001b[0mheaders\u001b[0m\u001b[0;34m=\u001b[0m\u001b[0mheaders\u001b[0m\u001b[0;34m)\u001b[0m\u001b[0;34m\u001b[0m\u001b[0;34m\u001b[0m\u001b[0m\n\u001b[1;32m    340\u001b[0m         \u001b[0;32mif\u001b[0m \u001b[0mresponse\u001b[0m\u001b[0;34m.\u001b[0m\u001b[0mstatus_code\u001b[0m \u001b[0;34m==\u001b[0m \u001b[0;36m404\u001b[0m\u001b[0;34m:\u001b[0m\u001b[0;34m\u001b[0m\u001b[0;34m\u001b[0m\u001b[0m\n\u001b[0;32m--> 341\u001b[0;31m             \u001b[0;32mraise\u001b[0m \u001b[0mLegislicePathError\u001b[0m\u001b[0;34m(\u001b[0m\u001b[0;34mf\"No enacted text found for query {url}\"\u001b[0m\u001b[0;34m)\u001b[0m\u001b[0;34m\u001b[0m\u001b[0;34m\u001b[0m\u001b[0m\n\u001b[0m\u001b[1;32m    342\u001b[0m         \u001b[0;32mif\u001b[0m \u001b[0mresponse\u001b[0m\u001b[0;34m.\u001b[0m\u001b[0mstatus_code\u001b[0m \u001b[0;34m==\u001b[0m \u001b[0;36m403\u001b[0m\u001b[0;34m:\u001b[0m\u001b[0;34m\u001b[0m\u001b[0;34m\u001b[0m\u001b[0m\n\u001b[1;32m    343\u001b[0m             \u001b[0;32mraise\u001b[0m \u001b[0mLegisliceTokenError\u001b[0m\u001b[0;34m(\u001b[0m\u001b[0;34mf\"{response.json().get('detail')}\"\u001b[0m\u001b[0;34m)\u001b[0m\u001b[0;34m\u001b[0m\u001b[0;34m\u001b[0m\u001b[0m\n",
      "\u001b[0;31mLegislicePathError\u001b[0m: No enacted text found for query https://authorityspoke.com/api/v1/us/usc/t18/s5312/b/1/"
     ]
    }
   ],
   "source": [
    "from authorityspoke import Entity, Fact, Holding, Predicate\n",
    "no_license = Fact(\n",
    "            (\"$defendant operated $business without an appropriate money transmitting \"\n",
    "            \"license in a State where such operation was punishable as a misdemeanor \"\n",
    "            \"or a felony under State law\"),\n",
    "            terms=[Entity(\"Mazza-Alaluf\"), Entity(\"Turismo Costa Brava\")],\n",
    "        )\n",
    "operated = Fact(\n",
    "    \"$person operated $business as a business\",\n",
    "    terms=[Entity(\"Mazza-Alaluf\"), Entity(\"Turismo Costa Brava\")],\n",
    ")\n",
    "transmitting = Fact(\n",
    "    \"$business was a money transmitting business\", terms=Entity(\"Turismo Costa Brava\")\n",
    ")\n",
    "offense = Fact(\n",
    "    \"$person committed the offense of conducting a money transmitting business without a license required by state law\",\n",
    "    terms=Entity(\"Mazza-Alaluf\"),\n",
    ")\n",
    "not_domestic = Fact(\n",
    "\"$business was a domestic financial institution\", truth=False, terms=Entity(\"Turismo Costa Brava\"))\n",
    "definition_statute = CLIENT.read(\"/us/usc/t18/s1960/b/1/A\")\n",
    "domestic_institution_statute = CLIENT.read(\"/us/usc/t18/s5312/b/1\")\n",
    "no_domestic_office = Fact(\"$business lacked an agent, agency, branch, or office within the United States\", terms=Entity(\"Turismo Costa Brava\"))\n",
    "holding = Holding.from_factors(\n",
    "    inputs=[no_license, operated, transmitting],\n",
    "    outputs=offense,\n",
    "    despite=[not_domestic, no_domestic_office],\n",
    "    enactments=definition_statute,\n",
    "    enactments_despite=domestic_institution_statute\n",
    ")\n",
    "    \n",
    "\"\"\"\n",
    "Holding anchor:\n",
    "\n",
    "Title 18 U.S.C. § 1960(b)(1)(A), which makes it a crime to operate a money transmitting \n",
    "business without appropriate state licenses, does not require the government to prove \n",
    "that the charged business was a \"domestic financial institution,\" as *215 defined in \n",
    "those parts of Title 31 governing federal reporting requirements for such institutions.\n",
    "\"\"\""
   ]
  }
 ],
 "metadata": {
  "kernelspec": {
   "display_name": "authorityspoke",
   "language": "python",
   "name": "authorityspoke"
  },
  "language_info": {
   "codemirror_mode": {
    "name": "ipython",
    "version": 3
   },
   "file_extension": ".py",
   "mimetype": "text/x-python",
   "name": "python",
   "nbconvert_exporter": "python",
   "pygments_lexer": "ipython3",
   "version": "3.9.5"
  }
 },
 "nbformat": 4,
 "nbformat_minor": 4
}
